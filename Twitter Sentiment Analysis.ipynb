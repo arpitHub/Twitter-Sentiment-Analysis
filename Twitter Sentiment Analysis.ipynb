{
 "cells": [
  {
   "cell_type": "code",
   "execution_count": 61,
   "metadata": {
    "collapsed": true
   },
   "outputs": [],
   "source": [
    "# General:\n",
    "import tweepy           # To consume Twitter's API\n",
    "import pandas as pd     # To handle data\n",
    "import numpy as np      # For number computing"
   ]
  },
  {
   "cell_type": "code",
   "execution_count": 62,
   "metadata": {
    "collapsed": true
   },
   "outputs": [],
   "source": [
    "# For plotting and visualization:\n",
    "from IPython.display import display\n",
    "import matplotlib.pyplot as plt\n",
    "import seaborn as sns\n",
    "%matplotlib inline"
   ]
  },
  {
   "cell_type": "code",
   "execution_count": 63,
   "metadata": {},
   "outputs": [],
   "source": [
    "from credentials import *"
   ]
  },
  {
   "cell_type": "code",
   "execution_count": null,
   "metadata": {
    "scrolled": true
   },
   "outputs": [],
   "source": []
  },
  {
   "cell_type": "markdown",
   "metadata": {},
   "source": [
    "$/sqrt(2+x)$\n",
    "\n",
    "_italic_"
   ]
  },
  {
   "cell_type": "code",
   "execution_count": 64,
   "metadata": {},
   "outputs": [
    {
     "name": "stdout",
     "output_type": "stream",
     "text": [
      "Number of tweets extracted: 200.\n",
      "\n",
      "5 recent tweets:\n",
      "\n",
      "Lisa is being laid to rest today.  This is a clip she uploaded herself to youtube awhile back and was very proud... http://t.co/SmqLCjYCge\n",
      "\n",
      "From Lisa's Aunt Kate: \n",
      "\n",
      "\"Dear Friends of Lisa,\n",
      "Lisa's funeral is on Thursday, September 5th in Charlotte, N.C.... http://t.co/5GLjSR1WCB\n",
      "\n",
      "Hi everyone, this post right now is obviously not from Lisa, but rather I'm good friend who has collaborated with... http://t.co/aL2rm9z4wG\n",
      "\n",
      "go \"like\" my friends restaurant page please... https://t.co/lKhn8Fb3Du http://t.co/eerFItRM7q\n",
      "\n",
      "Tonight, dinner at Mr Souvla.... I need me some Greek.... !! xoxox\n",
      "\n"
     ]
    }
   ],
   "source": [
    "# We create an extractor object:\n",
    "extractor = twitter_setup()\n",
    "\n",
    "# We create a tweet list as follows:\n",
    "tweets = extractor.user_timeline(screen_name=\"lisarobinkelly\", count=300)\n",
    "print(\"Number of tweets extracted: {}.\\n\".format(len(tweets)))\n",
    "\n",
    "# We print the most recent 5 tweets:\n",
    "print(\"5 recent tweets:\\n\")\n",
    "for tweet in tweets[:5]:\n",
    "    print(tweet.text)\n",
    "    print()"
   ]
  },
  {
   "cell_type": "code",
   "execution_count": 65,
   "metadata": {},
   "outputs": [
    {
     "data": {
      "text/html": [
       "<div>\n",
       "<style scoped>\n",
       "    .dataframe tbody tr th:only-of-type {\n",
       "        vertical-align: middle;\n",
       "    }\n",
       "\n",
       "    .dataframe tbody tr th {\n",
       "        vertical-align: top;\n",
       "    }\n",
       "\n",
       "    .dataframe thead th {\n",
       "        text-align: right;\n",
       "    }\n",
       "</style>\n",
       "<table border=\"1\" class=\"dataframe\">\n",
       "  <thead>\n",
       "    <tr style=\"text-align: right;\">\n",
       "      <th></th>\n",
       "      <th>Tweets</th>\n",
       "    </tr>\n",
       "  </thead>\n",
       "  <tbody>\n",
       "    <tr>\n",
       "      <th>190</th>\n",
       "      <td>@LisaRobin357</td>\n",
       "    </tr>\n",
       "    <tr>\n",
       "      <th>191</th>\n",
       "      <td>C'mon boston RED SOX NATION!!!</td>\n",
       "    </tr>\n",
       "    <tr>\n",
       "      <th>192</th>\n",
       "      <td>@BurkhartHyde.</td>\n",
       "    </tr>\n",
       "    <tr>\n",
       "      <th>193</th>\n",
       "      <td>@DENISE_RICHARDS</td>\n",
       "    </tr>\n",
       "    <tr>\n",
       "      <th>194</th>\n",
       "      <td>@EMILIOTHEWAY E. Peace and love. Xo</td>\n",
       "    </tr>\n",
       "    <tr>\n",
       "      <th>195</th>\n",
       "      <td>To walk away from love hurts.......,this time ...</td>\n",
       "    </tr>\n",
       "    <tr>\n",
       "      <th>196</th>\n",
       "      <td>MISS CALIE!!!!</td>\n",
       "    </tr>\n",
       "    <tr>\n",
       "      <th>197</th>\n",
       "      <td>Movin today. Everyday in everyway life is gett...</td>\n",
       "    </tr>\n",
       "    <tr>\n",
       "      <th>198</th>\n",
       "      <td>@EMILIOTHEWAY facebook me!!!</td>\n",
       "    </tr>\n",
       "    <tr>\n",
       "      <th>199</th>\n",
       "      <td>Listening to music and just chillin.</td>\n",
       "    </tr>\n",
       "  </tbody>\n",
       "</table>\n",
       "</div>"
      ],
      "text/plain": [
       "                                                Tweets\n",
       "190                                      @LisaRobin357\n",
       "191                     C'mon boston RED SOX NATION!!!\n",
       "192                                     @BurkhartHyde.\n",
       "193                                   @DENISE_RICHARDS\n",
       "194                @EMILIOTHEWAY E. Peace and love. Xo\n",
       "195  To walk away from love hurts.......,this time ...\n",
       "196                                     MISS CALIE!!!!\n",
       "197  Movin today. Everyday in everyway life is gett...\n",
       "198                       @EMILIOTHEWAY facebook me!!!\n",
       "199               Listening to music and just chillin."
      ]
     },
     "metadata": {},
     "output_type": "display_data"
    }
   ],
   "source": [
    "# We create a pandas dataframe as follows:\n",
    "data = pd.DataFrame(data=[tweet.text for tweet in tweets], columns=['Tweets'])\n",
    "#data = data.drop(data.index[[0,1,2]]) #removing last 3 tweets posted by her friend\n",
    "#data = data.reset_index()\n",
    "\n",
    "# We display the first 10 elements of the dataframe:\n",
    "display(data.tail(10))"
   ]
  },
  {
   "cell_type": "code",
   "execution_count": 66,
   "metadata": {},
   "outputs": [
    {
     "name": "stdout",
     "output_type": "stream",
     "text": [
      "['__class__', '__delattr__', '__dict__', '__dir__', '__doc__', '__eq__', '__format__', '__ge__', '__getattribute__', '__getstate__', '__gt__', '__hash__', '__init__', '__init_subclass__', '__le__', '__lt__', '__module__', '__ne__', '__new__', '__reduce__', '__reduce_ex__', '__repr__', '__setattr__', '__sizeof__', '__str__', '__subclasshook__', '__weakref__', '_api', '_json', 'author', 'contributors', 'coordinates', 'created_at', 'destroy', 'entities', 'favorite', 'favorite_count', 'favorited', 'geo', 'id', 'id_str', 'in_reply_to_screen_name', 'in_reply_to_status_id', 'in_reply_to_status_id_str', 'in_reply_to_user_id', 'in_reply_to_user_id_str', 'is_quote_status', 'lang', 'parse', 'parse_list', 'place', 'possibly_sensitive', 'retweet', 'retweet_count', 'retweeted', 'retweets', 'source', 'source_url', 'text', 'truncated', 'user']\n"
     ]
    }
   ],
   "source": [
    "# Internal methods of a single tweet object:\n",
    "print(dir(tweets[1]))"
   ]
  },
  {
   "cell_type": "code",
   "execution_count": 67,
   "metadata": {},
   "outputs": [
    {
     "name": "stdout",
     "output_type": "stream",
     "text": [
      "373278417724391424\n",
      "2013-08-30 02:58:04\n",
      "Facebook\n",
      "1\n",
      "4\n",
      "None\n",
      "None\n",
      "{'hashtags': [], 'symbols': [], 'user_mentions': [], 'urls': [{'url': 'http://t.co/5GLjSR1WCB', 'expanded_url': 'http://fb.me/2lJeB4gd6', 'display_url': 'fb.me/2lJeB4gd6', 'indices': [115, 137]}]}\n"
     ]
    }
   ],
   "source": [
    "# We print info from the first tweet:\n",
    "print(tweets[1].id)\n",
    "print(tweets[1].created_at)\n",
    "print(tweets[1].source)\n",
    "print(tweets[1].favorite_count)\n",
    "print(tweets[1].retweet_count)\n",
    "print(tweets[1].geo)\n",
    "print(tweets[1].coordinates)\n",
    "print(tweets[1].entities)"
   ]
  },
  {
   "cell_type": "code",
   "execution_count": 68,
   "metadata": {},
   "outputs": [],
   "source": [
    "# We add relevant data:\n",
    "data['len']  = np.array([len(tweet.text) for tweet in tweets])\n",
    "data['ID']   = np.array([tweet.id for tweet in tweets])\n",
    "data['Date'] = np.array([tweet.created_at for tweet in tweets])\n",
    "data['Source'] = np.array([tweet.source for tweet in tweets])\n",
    "data['Likes']  = np.array([tweet.favorite_count for tweet in tweets])\n",
    "data['RTs']    = np.array([tweet.retweet_count for tweet in tweets])"
   ]
  },
  {
   "cell_type": "code",
   "execution_count": 69,
   "metadata": {},
   "outputs": [
    {
     "data": {
      "text/html": [
       "<div>\n",
       "<style scoped>\n",
       "    .dataframe tbody tr th:only-of-type {\n",
       "        vertical-align: middle;\n",
       "    }\n",
       "\n",
       "    .dataframe tbody tr th {\n",
       "        vertical-align: top;\n",
       "    }\n",
       "\n",
       "    .dataframe thead th {\n",
       "        text-align: right;\n",
       "    }\n",
       "</style>\n",
       "<table border=\"1\" class=\"dataframe\">\n",
       "  <thead>\n",
       "    <tr style=\"text-align: right;\">\n",
       "      <th></th>\n",
       "      <th>Tweets</th>\n",
       "      <th>len</th>\n",
       "      <th>ID</th>\n",
       "      <th>Date</th>\n",
       "      <th>Source</th>\n",
       "      <th>Likes</th>\n",
       "      <th>RTs</th>\n",
       "    </tr>\n",
       "  </thead>\n",
       "  <tbody>\n",
       "    <tr>\n",
       "      <th>0</th>\n",
       "      <td>Lisa is being laid to rest today.  This is a c...</td>\n",
       "      <td>138</td>\n",
       "      <td>375630003205337088</td>\n",
       "      <td>2013-09-05 14:42:26</td>\n",
       "      <td>Facebook</td>\n",
       "      <td>16</td>\n",
       "      <td>9</td>\n",
       "    </tr>\n",
       "    <tr>\n",
       "      <th>1</th>\n",
       "      <td>From Lisa's Aunt Kate: \\n\\n\"Dear Friends of Li...</td>\n",
       "      <td>137</td>\n",
       "      <td>373278417724391424</td>\n",
       "      <td>2013-08-30 02:58:04</td>\n",
       "      <td>Facebook</td>\n",
       "      <td>1</td>\n",
       "      <td>4</td>\n",
       "    </tr>\n",
       "    <tr>\n",
       "      <th>2</th>\n",
       "      <td>Hi everyone, this post right now is obviously ...</td>\n",
       "      <td>139</td>\n",
       "      <td>368127944746483714</td>\n",
       "      <td>2013-08-15 21:51:56</td>\n",
       "      <td>Facebook</td>\n",
       "      <td>19</td>\n",
       "      <td>23</td>\n",
       "    </tr>\n",
       "    <tr>\n",
       "      <th>3</th>\n",
       "      <td>go \"like\" my friends restaurant page please......</td>\n",
       "      <td>93</td>\n",
       "      <td>350035042921218048</td>\n",
       "      <td>2013-06-26 23:37:12</td>\n",
       "      <td>Facebook</td>\n",
       "      <td>2</td>\n",
       "      <td>1</td>\n",
       "    </tr>\n",
       "    <tr>\n",
       "      <th>4</th>\n",
       "      <td>Tonight, dinner at Mr Souvla.... I need me som...</td>\n",
       "      <td>66</td>\n",
       "      <td>350033449148616704</td>\n",
       "      <td>2013-06-26 23:30:52</td>\n",
       "      <td>Facebook</td>\n",
       "      <td>1</td>\n",
       "      <td>0</td>\n",
       "    </tr>\n",
       "    <tr>\n",
       "      <th>5</th>\n",
       "      <td>Bikram Yoga anyone???</td>\n",
       "      <td>21</td>\n",
       "      <td>349908742705389569</td>\n",
       "      <td>2013-06-26 15:15:19</td>\n",
       "      <td>Facebook</td>\n",
       "      <td>0</td>\n",
       "      <td>0</td>\n",
       "    </tr>\n",
       "    <tr>\n",
       "      <th>6</th>\n",
       "      <td>Spent the day walking the beach in sunny Calif...</td>\n",
       "      <td>105</td>\n",
       "      <td>349735692399677440</td>\n",
       "      <td>2013-06-26 03:47:41</td>\n",
       "      <td>Facebook</td>\n",
       "      <td>2</td>\n",
       "      <td>3</td>\n",
       "    </tr>\n",
       "    <tr>\n",
       "      <th>7</th>\n",
       "      <td>I am having a great day............,free at la...</td>\n",
       "      <td>110</td>\n",
       "      <td>348955877665021953</td>\n",
       "      <td>2013-06-24 00:08:59</td>\n",
       "      <td>Facebook</td>\n",
       "      <td>11</td>\n",
       "      <td>6</td>\n",
       "    </tr>\n",
       "    <tr>\n",
       "      <th>8</th>\n",
       "      <td>Morning! — feeling happy</td>\n",
       "      <td>24</td>\n",
       "      <td>348081811282358274</td>\n",
       "      <td>2013-06-21 14:15:45</td>\n",
       "      <td>Facebook</td>\n",
       "      <td>2</td>\n",
       "      <td>0</td>\n",
       "    </tr>\n",
       "    <tr>\n",
       "      <th>9</th>\n",
       "      <td>Root for the underdog.  We have a heart and so...</td>\n",
       "      <td>70</td>\n",
       "      <td>346830769974562816</td>\n",
       "      <td>2013-06-18 03:24:34</td>\n",
       "      <td>Facebook</td>\n",
       "      <td>2</td>\n",
       "      <td>8</td>\n",
       "    </tr>\n",
       "  </tbody>\n",
       "</table>\n",
       "</div>"
      ],
      "text/plain": [
       "                                              Tweets  len                  ID  \\\n",
       "0  Lisa is being laid to rest today.  This is a c...  138  375630003205337088   \n",
       "1  From Lisa's Aunt Kate: \\n\\n\"Dear Friends of Li...  137  373278417724391424   \n",
       "2  Hi everyone, this post right now is obviously ...  139  368127944746483714   \n",
       "3  go \"like\" my friends restaurant page please......   93  350035042921218048   \n",
       "4  Tonight, dinner at Mr Souvla.... I need me som...   66  350033449148616704   \n",
       "5                              Bikram Yoga anyone???   21  349908742705389569   \n",
       "6  Spent the day walking the beach in sunny Calif...  105  349735692399677440   \n",
       "7  I am having a great day............,free at la...  110  348955877665021953   \n",
       "8                           Morning! — feeling happy   24  348081811282358274   \n",
       "9  Root for the underdog.  We have a heart and so...   70  346830769974562816   \n",
       "\n",
       "                 Date    Source  Likes  RTs  \n",
       "0 2013-09-05 14:42:26  Facebook     16    9  \n",
       "1 2013-08-30 02:58:04  Facebook      1    4  \n",
       "2 2013-08-15 21:51:56  Facebook     19   23  \n",
       "3 2013-06-26 23:37:12  Facebook      2    1  \n",
       "4 2013-06-26 23:30:52  Facebook      1    0  \n",
       "5 2013-06-26 15:15:19  Facebook      0    0  \n",
       "6 2013-06-26 03:47:41  Facebook      2    3  \n",
       "7 2013-06-24 00:08:59  Facebook     11    6  \n",
       "8 2013-06-21 14:15:45  Facebook      2    0  \n",
       "9 2013-06-18 03:24:34  Facebook      2    8  "
      ]
     },
     "metadata": {},
     "output_type": "display_data"
    }
   ],
   "source": [
    "# Display of first 10 elements from dataframe:\n",
    "display(data.head(10))"
   ]
  },
  {
   "cell_type": "code",
   "execution_count": 70,
   "metadata": {},
   "outputs": [
    {
     "name": "stdout",
     "output_type": "stream",
     "text": [
      "The lenght's average in tweets: 55.29\n"
     ]
    }
   ],
   "source": [
    "# We extract the mean of lenghts:\n",
    "mean = np.mean(data['len'])\n",
    "\n",
    "print(\"The lenght's average in tweets: {}\".format(mean))"
   ]
  },
  {
   "cell_type": "code",
   "execution_count": 71,
   "metadata": {},
   "outputs": [
    {
     "name": "stdout",
     "output_type": "stream",
     "text": [
      "The tweet with more likes is: \n",
      "Hi everyone, this post right now is obviously not from Lisa, but rather I'm good friend who has collaborated with... http://t.co/aL2rm9z4wG\n",
      "Number of likes: 19\n",
      "139 characters.\n",
      "\n",
      "The tweet with more retweets is: \n",
      "RT @DalaiLama: We should value our enemies because they provide us with unique opportunities to practice patience, tolerance and forbear ...\n",
      "Number of retweets: 9061\n",
      "140 characters.\n",
      "\n"
     ]
    }
   ],
   "source": [
    "# We extract the tweet with more FAVs and more RTs:\n",
    "\n",
    "fav_max = np.max(data['Likes'])\n",
    "rt_max  = np.max(data['RTs'])\n",
    "\n",
    "fav = data[data.Likes == fav_max].index[0]\n",
    "rt  = data[data.RTs == rt_max].index[0]\n",
    "\n",
    "# Max FAVs:\n",
    "print(\"The tweet with more likes is: \\n{}\".format(data['Tweets'][fav]))\n",
    "print(\"Number of likes: {}\".format(fav_max))\n",
    "print(\"{} characters.\\n\".format(data['len'][fav]))\n",
    "\n",
    "# Max RTs:\n",
    "print(\"The tweet with more retweets is: \\n{}\".format(data['Tweets'][rt]))\n",
    "print(\"Number of retweets: {}\".format(rt_max))\n",
    "print(\"{} characters.\\n\".format(data['len'][rt]))"
   ]
  },
  {
   "cell_type": "code",
   "execution_count": 72,
   "metadata": {
    "collapsed": true
   },
   "outputs": [],
   "source": [
    "# We create time series for data:\n",
    "\n",
    "tlen = pd.Series(data=data['len'].values, index=data['Date'])\n",
    "tfav = pd.Series(data=data['Likes'].values, index=data['Date'])\n",
    "tret = pd.Series(data=data['RTs'].values, index=data['Date'])"
   ]
  },
  {
   "cell_type": "code",
   "execution_count": 73,
   "metadata": {},
   "outputs": [
    {
     "data": {
      "image/png": "[encoded data removed]",
      "text/plain": [
       "<Figure size 1152x288 with 1 Axes>"
      ]
     },
     "metadata": {},
     "output_type": "display_data"
    }
   ],
   "source": [
    "# Lenghts along time:\n",
    "tlen.plot(figsize=(16,4), color='r');"
   ]
  },
  {
   "cell_type": "code",
   "execution_count": 74,
   "metadata": {},
   "outputs": [
    {
     "data": {
      "image/png": "[encoded data removed]",
      "text/plain": [
       "<Figure size 1152x288 with 1 Axes>"
      ]
     },
     "metadata": {},
     "output_type": "display_data"
    }
   ],
   "source": [
    "# Likes vs retweets visualization:\n",
    "tfav.plot(figsize=(16,4), label=\"Likes\", legend=True)\n",
    "tret.plot(figsize=(16,4), label=\"Retweets\", legend=True);"
   ]
  },
  {
   "cell_type": "code",
   "execution_count": 75,
   "metadata": {},
   "outputs": [
    {
     "name": "stdout",
     "output_type": "stream",
     "text": [
      "Creation of content sources:\n",
      "* Facebook\n",
      "* Twitter Web Client\n",
      "* Twitter for Websites\n",
      "* Twitter for Android\n",
      "* DROID\n",
      "* Mobile Web\n"
     ]
    }
   ],
   "source": [
    "# We obtain all possible sources:\n",
    "sources = []\n",
    "for source in data['Source']:\n",
    "    if source not in sources:\n",
    "        sources.append(source)\n",
    "\n",
    "# We print sources list:\n",
    "print(\"Creation of content sources:\")\n",
    "for source in sources:\n",
    "    print(\"* {}\".format(source))"
   ]
  },
  {
   "cell_type": "code",
   "execution_count": 76,
   "metadata": {},
   "outputs": [
    {
     "data": {
      "image/png": "[encoded data removed]",
      "text/plain": [
       "<Figure size 432x432 with 1 Axes>"
      ]
     },
     "metadata": {},
     "output_type": "display_data"
    }
   ],
   "source": [
    "# We create a numpy vector mapped to labels:\n",
    "percent = np.zeros(len(sources))\n",
    "\n",
    "for source in data['Source']:\n",
    "    for index in range(len(sources)):\n",
    "        if source == sources[index]:\n",
    "            percent[index] += 1\n",
    "            pass\n",
    "\n",
    "percent /= 100\n",
    "\n",
    "# Pie chart:\n",
    "pie_chart = pd.Series(percent, index=sources, name='Sources')\n",
    "pie_chart.plot.pie(fontsize=11, autopct='%.2f', figsize=(6, 6));"
   ]
  },
  {
   "cell_type": "code",
   "execution_count": 77,
   "metadata": {
    "collapsed": true
   },
   "outputs": [],
   "source": [
    "from textblob import TextBlob\n",
    "import re\n",
    "\n",
    "def clean_tweet(tweet):\n",
    "    '''\n",
    "    Utility function to clean the text in a tweet by removing \n",
    "    links and special characters using regex.\n",
    "    '''\n",
    "    return ' '.join(re.sub(\"(@[A-Za-z0-9]+)|([^0-9A-Za-z \\t])|(\\w+:\\/\\/\\S+)\", \" \", tweet).split())\n",
    "\n",
    "def analize_sentiment(tweet):\n",
    "    '''\n",
    "    Utility function to classify the polarity of a tweet\n",
    "    using textblob.\n",
    "    '''\n",
    "    analysis = TextBlob(clean_tweet(tweet))\n",
    "    if analysis.sentiment.polarity > 0:\n",
    "        return 1\n",
    "    elif analysis.sentiment.polarity == 0:\n",
    "        return 0\n",
    "    else:\n",
    "        return -1"
   ]
  },
  {
   "cell_type": "code",
   "execution_count": 78,
   "metadata": {},
   "outputs": [
    {
     "data": {
      "text/html": [
       "<div>\n",
       "<style scoped>\n",
       "    .dataframe tbody tr th:only-of-type {\n",
       "        vertical-align: middle;\n",
       "    }\n",
       "\n",
       "    .dataframe tbody tr th {\n",
       "        vertical-align: top;\n",
       "    }\n",
       "\n",
       "    .dataframe thead th {\n",
       "        text-align: right;\n",
       "    }\n",
       "</style>\n",
       "<table border=\"1\" class=\"dataframe\">\n",
       "  <thead>\n",
       "    <tr style=\"text-align: right;\">\n",
       "      <th></th>\n",
       "      <th>Tweets</th>\n",
       "      <th>len</th>\n",
       "      <th>ID</th>\n",
       "      <th>Date</th>\n",
       "      <th>Source</th>\n",
       "      <th>Likes</th>\n",
       "      <th>RTs</th>\n",
       "      <th>SA</th>\n",
       "    </tr>\n",
       "  </thead>\n",
       "  <tbody>\n",
       "    <tr>\n",
       "      <th>0</th>\n",
       "      <td>Lisa is being laid to rest today.  This is a c...</td>\n",
       "      <td>138</td>\n",
       "      <td>375630003205337088</td>\n",
       "      <td>2013-09-05 14:42:26</td>\n",
       "      <td>Facebook</td>\n",
       "      <td>16</td>\n",
       "      <td>9</td>\n",
       "      <td>1</td>\n",
       "    </tr>\n",
       "    <tr>\n",
       "      <th>1</th>\n",
       "      <td>From Lisa's Aunt Kate: \\n\\n\"Dear Friends of Li...</td>\n",
       "      <td>137</td>\n",
       "      <td>373278417724391424</td>\n",
       "      <td>2013-08-30 02:58:04</td>\n",
       "      <td>Facebook</td>\n",
       "      <td>1</td>\n",
       "      <td>4</td>\n",
       "      <td>0</td>\n",
       "    </tr>\n",
       "    <tr>\n",
       "      <th>2</th>\n",
       "      <td>Hi everyone, this post right now is obviously ...</td>\n",
       "      <td>139</td>\n",
       "      <td>368127944746483714</td>\n",
       "      <td>2013-08-15 21:51:56</td>\n",
       "      <td>Facebook</td>\n",
       "      <td>19</td>\n",
       "      <td>23</td>\n",
       "      <td>1</td>\n",
       "    </tr>\n",
       "    <tr>\n",
       "      <th>3</th>\n",
       "      <td>go \"like\" my friends restaurant page please......</td>\n",
       "      <td>93</td>\n",
       "      <td>350035042921218048</td>\n",
       "      <td>2013-06-26 23:37:12</td>\n",
       "      <td>Facebook</td>\n",
       "      <td>2</td>\n",
       "      <td>1</td>\n",
       "      <td>0</td>\n",
       "    </tr>\n",
       "    <tr>\n",
       "      <th>4</th>\n",
       "      <td>Tonight, dinner at Mr Souvla.... I need me som...</td>\n",
       "      <td>66</td>\n",
       "      <td>350033449148616704</td>\n",
       "      <td>2013-06-26 23:30:52</td>\n",
       "      <td>Facebook</td>\n",
       "      <td>1</td>\n",
       "      <td>0</td>\n",
       "      <td>0</td>\n",
       "    </tr>\n",
       "    <tr>\n",
       "      <th>5</th>\n",
       "      <td>Bikram Yoga anyone???</td>\n",
       "      <td>21</td>\n",
       "      <td>349908742705389569</td>\n",
       "      <td>2013-06-26 15:15:19</td>\n",
       "      <td>Facebook</td>\n",
       "      <td>0</td>\n",
       "      <td>0</td>\n",
       "      <td>0</td>\n",
       "    </tr>\n",
       "    <tr>\n",
       "      <th>6</th>\n",
       "      <td>Spent the day walking the beach in sunny Calif...</td>\n",
       "      <td>105</td>\n",
       "      <td>349735692399677440</td>\n",
       "      <td>2013-06-26 03:47:41</td>\n",
       "      <td>Facebook</td>\n",
       "      <td>2</td>\n",
       "      <td>3</td>\n",
       "      <td>1</td>\n",
       "    </tr>\n",
       "    <tr>\n",
       "      <th>7</th>\n",
       "      <td>I am having a great day............,free at la...</td>\n",
       "      <td>110</td>\n",
       "      <td>348955877665021953</td>\n",
       "      <td>2013-06-24 00:08:59</td>\n",
       "      <td>Facebook</td>\n",
       "      <td>11</td>\n",
       "      <td>6</td>\n",
       "      <td>1</td>\n",
       "    </tr>\n",
       "    <tr>\n",
       "      <th>8</th>\n",
       "      <td>Morning! — feeling happy</td>\n",
       "      <td>24</td>\n",
       "      <td>348081811282358274</td>\n",
       "      <td>2013-06-21 14:15:45</td>\n",
       "      <td>Facebook</td>\n",
       "      <td>2</td>\n",
       "      <td>0</td>\n",
       "      <td>1</td>\n",
       "    </tr>\n",
       "    <tr>\n",
       "      <th>9</th>\n",
       "      <td>Root for the underdog.  We have a heart and so...</td>\n",
       "      <td>70</td>\n",
       "      <td>346830769974562816</td>\n",
       "      <td>2013-06-18 03:24:34</td>\n",
       "      <td>Facebook</td>\n",
       "      <td>2</td>\n",
       "      <td>8</td>\n",
       "      <td>0</td>\n",
       "    </tr>\n",
       "  </tbody>\n",
       "</table>\n",
       "</div>"
      ],
      "text/plain": [
       "                                              Tweets  len                  ID  \\\n",
       "0  Lisa is being laid to rest today.  This is a c...  138  375630003205337088   \n",
       "1  From Lisa's Aunt Kate: \\n\\n\"Dear Friends of Li...  137  373278417724391424   \n",
       "2  Hi everyone, this post right now is obviously ...  139  368127944746483714   \n",
       "3  go \"like\" my friends restaurant page please......   93  350035042921218048   \n",
       "4  Tonight, dinner at Mr Souvla.... I need me som...   66  350033449148616704   \n",
       "5                              Bikram Yoga anyone???   21  349908742705389569   \n",
       "6  Spent the day walking the beach in sunny Calif...  105  349735692399677440   \n",
       "7  I am having a great day............,free at la...  110  348955877665021953   \n",
       "8                           Morning! — feeling happy   24  348081811282358274   \n",
       "9  Root for the underdog.  We have a heart and so...   70  346830769974562816   \n",
       "\n",
       "                 Date    Source  Likes  RTs  SA  \n",
       "0 2013-09-05 14:42:26  Facebook     16    9   1  \n",
       "1 2013-08-30 02:58:04  Facebook      1    4   0  \n",
       "2 2013-08-15 21:51:56  Facebook     19   23   1  \n",
       "3 2013-06-26 23:37:12  Facebook      2    1   0  \n",
       "4 2013-06-26 23:30:52  Facebook      1    0   0  \n",
       "5 2013-06-26 15:15:19  Facebook      0    0   0  \n",
       "6 2013-06-26 03:47:41  Facebook      2    3   1  \n",
       "7 2013-06-24 00:08:59  Facebook     11    6   1  \n",
       "8 2013-06-21 14:15:45  Facebook      2    0   1  \n",
       "9 2013-06-18 03:24:34  Facebook      2    8   0  "
      ]
     },
     "metadata": {},
     "output_type": "display_data"
    }
   ],
   "source": [
    "# We create a column with the result of the analysis:\n",
    "data['SA'] = np.array([ analize_sentiment(tweet) for tweet in data['Tweets'] ])\n",
    "\n",
    "# We display the updated dataframe with the new column:\n",
    "display(data.head(10))"
   ]
  },
  {
   "cell_type": "code",
   "execution_count": 79,
   "metadata": {
    "collapsed": true
   },
   "outputs": [],
   "source": [
    "# We construct lists with classified tweets:\n",
    "\n",
    "pos_tweets = [ tweet for index, tweet in enumerate(data['Tweets']) if data['SA'][index] > 0]\n",
    "neu_tweets = [ tweet for index, tweet in enumerate(data['Tweets']) if data['SA'][index] == 0]\n",
    "neg_tweets = [ tweet for index, tweet in enumerate(data['Tweets']) if data['SA'][index] < 0]"
   ]
  },
  {
   "cell_type": "code",
   "execution_count": 80,
   "metadata": {},
   "outputs": [
    {
     "name": "stdout",
     "output_type": "stream",
     "text": [
      "Percentage of positive tweets: 47.0%\n",
      "Percentage of neutral tweets: 46.5%\n",
      "Percentage de negative tweets: 6.5%\n"
     ]
    }
   ],
   "source": [
    "# We print percentages:\n",
    "\n",
    "print(\"Percentage of positive tweets: {}%\".format(len(pos_tweets)*100/len(data['Tweets'])))\n",
    "print(\"Percentage of neutral tweets: {}%\".format(len(neu_tweets)*100/len(data['Tweets'])))\n",
    "print(\"Percentage de negative tweets: {}%\".format(len(neg_tweets)*100/len(data['Tweets'])))"
   ]
  },
  {
   "cell_type": "code",
   "execution_count": null,
   "metadata": {
    "collapsed": true
   },
   "outputs": [],
   "source": []
  }
 ],
 "metadata": {
  "kernelspec": {
   "display_name": "Python 3",
   "language": "python",
   "name": "python3"
  },
  "language_info": {
   "codemirror_mode": {
    "name": "ipython",
    "version": 3
   },
   "file_extension": ".py",
   "mimetype": "text/x-python",
   "name": "python",
   "nbconvert_exporter": "python",
   "pygments_lexer": "ipython3",
   "version": "3.6.3"
  }
 },
 "nbformat": 4,
 "nbformat_minor": 2
}
